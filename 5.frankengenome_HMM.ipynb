  {
   "cell_type": "markdown",
   "metadata": {},
   "source": [
    "<hr style=\"height:5px;border-width:2;color:gray;background-color:#000000\"> \n",
    "<center><h1>Frankengenome challenge</h1></center>\n",
    "<br>\n",
    "\n",
    "Dr. Frankenstein is trying to create a new species of bacterium by splicing together the genomes of bacteria $A$ and $B$. Unfortunately, he lost all but the first two pages of his notes describing how they were spliced together.  He needs your help to identify which parts of the frankengenome came from which bacterium.  You are given the full frankengenome called `frankengenome.fa` as well as the first two pages of notes, called `frankengenome_train.txt` and `frankengenome_test.txt`, which have correct labels for the first 50,000 and the next 50,000 bases of the frankengenome respectively. The label `0` indicates the base came from genome $A$ and the label `1` indicates it came from genome $B$.  E.g. the label `0000011111110011` indicates the first 5 bases came from genome $A$, the next 7 from genome $B$, the next 2 from genome $A$, and the last 2 from genome $B$. (Credits: Jacob Pritt)\n",
    "\n",
    "The objective of this project is to implement a classifier that assigns a label to each base of the frankengenome according to whether it came from genome $A$ or $B$.  A good way to solve this problem is to use a hidden Markov model as we discussed in class.   While you may choose to experiment with higher-order HMM, a 1st order HMM -- where states correspond to genomes (A or B) and emissions to individual bases -- will do fine here.\n",
    "\n",
    "You can either write your own code from scratch, or borrow freely from any HMM implementations like  <A HREF=\"http://nbviewer.ipython.org/github/BenLangmead/comp-genomics-class/blob/master/notebooks/CG_HMM.ipynb\">this one</A> (but remember to acknowledge any code that you borrowed).\n",
    "Using an HMM Python library like <A href=\"https://hmmlearn.readthedocs.io/en/latest/\">hmmlearn</A> is not allowed because it would solve this problem with a few lines of code. In case you are in doubt, please ask.\n",
    "\n",
    "When you build your classifier, train it using *only* the data from `frankengenome_train.txt`.  When you test your classifier to assess accuracy, test it using *only* the data from `frankengenome_test.txt`.  This will give you a more accurate picture about how your classifier performs on the whole genome than if you build and test using the same data. You are not expected to get the labels 100% correct, but try to get at least 95% accuracy on the test data (accuracy is measured as the fraction of genome positions that are classified correctly).\n",
    "\n",
    "First let's get the frankengenome in FASTA format."
   ]
  },
  {
   "cell_type": "code",
   "execution_count": 6,
   "metadata": {},
   "outputs": [
    {
     "name": "stdout",
     "output_type": "stream",
     "text": [
      "--2021-04-10 20:30:27--  http://www.cs.ucr.edu/~stelo/cs144spring21/data/frankengenome.fa\n",
      "Resolving www.cs.ucr.edu (www.cs.ucr.edu)... 169.235.30.15\n",
      "Connecting to www.cs.ucr.edu (www.cs.ucr.edu)|169.235.30.15|:80... connected.\n",
      "HTTP request sent, awaiting response... 200 OK\n",
      "Length: 1671394 (1.6M)\n",
      "Saving to: ‘frankengenome.fa.2’\n",
      "\n",
      "frankengenome.fa.2  100%[===================>]   1.59M  --.-KB/s    in 0.02s   \n",
      "\n",
      "2021-04-10 20:30:27 (90.2 MB/s) - ‘frankengenome.fa.2’ saved [1671394/1671394]\n",
      "\n"
     ]
    }
   ],
   "source": [
    "!wget http://www.cs.ucr.edu/~stelo/cs144spring21/data/frankengenome.fa"
   ]
  },
  {
   "cell_type": "markdown",
   "metadata": {},
   "source": [
    "Let's take a quick look"
   ]
  },
  {
   "cell_type": "code",
   "execution_count": 7,
   "metadata": {},
   "outputs": [
    {
     "name": "stdout",
     "output_type": "stream",
     "text": [
      ">Frankengenome 1\n",
      "GCTGCATAGAGGGACCAAGAGCAATCAAGGCCCAGAACCAAGGCCCAGCTCGATGTTGGC\n",
      "AACAACACCCGTCCACTTGACAGGTGTACCGATAGGTGTTTACACCTGTCATGGCAGCTA\n",
      "TTGGTCGGCGTTGGATGGCCGTTGCCGAGCGCTAGGAGCACAACTTTTGTGGGCCAAGTT\n",
      "CAACAGGCCCGGCGATCAGCTAGGCGGTAGGAGCGAACTAACAGCTCACGGCAAAGGTGC\n",
      "GACTTTGCCGCACTATTGATGTGGCGGGCTTCGATTGTCAAAAGGCATGCCGACGGTTGG\n",
      "CAACAAAACGCAACACCACCCAAGAAACACTCACACCGCCAGAGCCCACATGCCTACCAC\n",
      "TCGTCGAATCGCCCGTTTGTGTTGTTCGTTTATTTTGGCTATTTCGTACCCTAAACCGCC\n",
      "GATTACAAAAAGAGTAACCAGACCAACAAAACCGACAAAAAGTGTACTAGTTCGCTATTG\n",
      "GGTTTGTTATTGGGTTTTTCGCCACAACTTTTTGAGTTTTTAGGATCGGTGTTCTTAATG\n"
     ]
    }
   ],
   "source": [
    "!head frankengenome.fa"
   ]
  },
  {
   "cell_type": "markdown",
   "metadata": {},
   "source": [
    "Now we get the training data, which are the labels for the first 50,000 bases of the frankengenome"
   ]
  },
  {
   "cell_type": "code",
   "execution_count": 8,
   "metadata": {},
   "outputs": [
    {
     "name": "stdout",
     "output_type": "stream",
     "text": [
      "--2021-04-10 20:30:31--  http://www.cs.ucr.edu/~stelo/cs144spring21/data/frankengenome_train.txt\n",
      "Resolving www.cs.ucr.edu (www.cs.ucr.edu)... 169.235.30.15\n",
      "Connecting to www.cs.ucr.edu (www.cs.ucr.edu)|169.235.30.15|:80... connected.\n",
      "HTTP request sent, awaiting response... 200 OK\n",
      "Length: 50001 (49K) [text/plain]\n",
      "Saving to: ‘frankengenome_train.txt.1’\n",
      "\n",
      "frankengenome_train 100%[===================>]  48.83K  --.-KB/s    in 0.001s  \n",
      "\n",
      "2021-04-10 20:30:31 (73.4 MB/s) - ‘frankengenome_train.txt.1’ saved [50001/50001]\n",
      "\n"
     ]
    }
   ],
   "source": [
    "!wget http://www.cs.ucr.edu/~stelo/cs144spring21/data/frankengenome_train.txt"
   ]
  },
  {
   "cell_type": "markdown",
   "metadata": {},
   "source": [
    "Finally we get the test data, which are the labels for the next 50,000 bases of the frankengenome"
   ]
  },
  {
   "cell_type": "code",
   "execution_count": 9,
   "metadata": {},
   "outputs": [
    {
     "name": "stdout",
     "output_type": "stream",
     "text": [
      "--2021-04-10 20:30:32--  http://www.cs.ucr.edu/~stelo/cs144spring21/data/frankengenome_test.txt\n",
      "Resolving www.cs.ucr.edu (www.cs.ucr.edu)... 169.235.30.15\n",
      "Connecting to www.cs.ucr.edu (www.cs.ucr.edu)|169.235.30.15|:80... connected.\n",
      "HTTP request sent, awaiting response... 200 OK\n",
      "Length: 50001 (49K) [text/plain]\n",
      "Saving to: ‘frankengenome_test.txt.1’\n",
      "\n",
      "frankengenome_test. 100%[===================>]  48.83K  --.-KB/s    in 0s      \n",
      "\n",
      "2021-04-10 20:30:32 (137 MB/s) - ‘frankengenome_test.txt.1’ saved [50001/50001]\n",
      "\n"
     ]
    }
   ],
   "source": [
    "!wget http://www.cs.ucr.edu/~stelo/cs144spring21/data/frankengenome_test.txt"
   ]
  },
  {
   "cell_type": "markdown",
   "metadata": {},
   "source": [
    "Provide the code below, and your accuracy results on the test set. Collect some experimental data on the time required by your algorithm for longer and longer prefixes of the frankengenome to understand what is the experimental time complexity of your implementation."
   ]
  },
  {
   "cell_type": "code",
   "execution_count": 1,
   "metadata": {},
   "outputs": [],
   "source": [
    "## YOUR CODE HERE\n",
    "## you can borrow code from any HMM implementation, but you need to acknowledge the source\n",
    "## no hmmlearn or similar ML libraries allows"
   ]
  }
 ],
 "metadata": {
  "kernelspec": {
   "display_name": "UCR CS 144 Spring 2021",
   "language": "python",
   "name": "cs144_spring2021"
  },
  "language_info": {
   "codemirror_mode": {
    "name": "ipython",
    "version": 3
   },
   "file_extension": ".py",
   "mimetype": "text/x-python",
   "name": "python",
   "nbconvert_exporter": "python",
   "pygments_lexer": "ipython3",
   "version": "3.8.5"
  }
 },
 "nbformat": 4,
 "nbformat_minor": 4
}
