{
 "cells": [
  {
   "cell_type": "markdown",
   "metadata": {},
   "source": [
    "<hr style=\"height:5px;border-width:2;color:gray;background-color:#000000\"> \n",
    "<center><h1>Frankengenome challenge</h1></center>\n",
    "<br>\n",
    "\n",
    "Dr. Frankenstein is trying to create a new species of bacterium by splicing together the genomes of bacteria $A$ and $B$. Unfortunately, he lost all but the first two pages of his notes describing how they were spliced together.  He needs your help to identify which parts of the frankengenome came from which bacterium.  You are given the full frankengenome called `frankengenome.fa` as well as the first two pages of notes, called `frankengenome_train.txt` and `frankengenome_test.txt`, which have correct labels for the first 50,000 and the next 50,000 bases of the frankengenome respectively. The label `0` indicates the base came from genome $A$ and the label `1` indicates it came from genome $B$.  E.g. the label `0000011111110011` indicates the first 5 bases came from genome $A$, the next 7 from genome $B$, the next 2 from genome $A$, and the last 2 from genome $B$. (Credits: Jacob Pritt)\n",
    "\n",
    "The objective of this project is to implement a classifier that assigns a label to each base of the frankengenome according to whether it came from genome $A$ or $B$.  A good way to solve this problem is to use a hidden Markov model as we discussed in class.   While you may choose to experiment with higher-order HMM, a 1st order HMM -- where states correspond to genomes (A or B) and emissions to individual bases -- will do fine here.\n",
    "\n",
    "You can either write your own code from scratch, or borrow freely from any HMM implementations like  <A HREF=\"http://nbviewer.ipython.org/github/BenLangmead/comp-genomics-class/blob/master/notebooks/CG_HMM.ipynb\">this one</A> (but remember to acknowledge any code that you borrowed).\n",
    "Using an HMM Python library like <A href=\"https://hmmlearn.readthedocs.io/en/latest/\">hmmlearn</A> is not allowed because it would solve this problem with a few lines of code. In case you are in doubt, please ask.\n",
    "\n",
    "When you build your classifier, train it using *only* the data from `frankengenome_train.txt`.  When you test your classifier to assess accuracy, test it using *only* the data from `frankengenome_test.txt`.  This will give you a more accurate picture about how your classifier performs on the whole genome than if you build and test using the same data. You are not expected to get the labels 100% correct, but try to get at least 95% accuracy on the test data (accuracy is measured as the fraction of genome positions that are classified correctly).\n",
    "\n",
    "First let's get the frankengenome in FASTA format."
   ]
  },
  {
   "cell_type": "code",
   "execution_count": 103,
   "metadata": {},
   "outputs": [
    {
     "name": "stdout",
     "output_type": "stream",
     "text": [
      "--2021-06-06 12:52:51--  http://www.cs.ucr.edu/~stelo/cs144spring21/data/frankengenome.fa\n",
      "Resolving www.cs.ucr.edu (www.cs.ucr.edu)... 169.235.30.15\n",
      "Connecting to www.cs.ucr.edu (www.cs.ucr.edu)|169.235.30.15|:80... connected.\n",
      "HTTP request sent, awaiting response... 200 OK\n",
      "Length: 1671394 (1.6M)\n",
      "Saving to: ‘frankengenome.fa.1’\n",
      "\n",
      "frankengenome.fa.1  100%[===================>]   1.59M  --.-KB/s    in 0.03s   \n",
      "\n",
      "2021-06-06 12:52:51 (58.4 MB/s) - ‘frankengenome.fa.1’ saved [1671394/1671394]\n",
      "\n"
     ]
    }
   ],
   "source": [
    "!wget http://www.cs.ucr.edu/~stelo/cs144spring21/data/frankengenome.fa"
   ]
  },
  {
   "cell_type": "markdown",
   "metadata": {},
   "source": [
    "Let's take a quick look"
   ]
  },
  {
   "cell_type": "code",
   "execution_count": 104,
   "metadata": {},
   "outputs": [
    {
     "name": "stdout",
     "output_type": "stream",
     "text": [
      ">Frankengenome 1\n",
      "GCTGCATAGAGGGACCAAGAGCAATCAAGGCCCAGAACCAAGGCCCAGCTCGATGTTGGC\n",
      "AACAACACCCGTCCACTTGACAGGTGTACCGATAGGTGTTTACACCTGTCATGGCAGCTA\n",
      "TTGGTCGGCGTTGGATGGCCGTTGCCGAGCGCTAGGAGCACAACTTTTGTGGGCCAAGTT\n",
      "CAACAGGCCCGGCGATCAGCTAGGCGGTAGGAGCGAACTAACAGCTCACGGCAAAGGTGC\n",
      "GACTTTGCCGCACTATTGATGTGGCGGGCTTCGATTGTCAAAAGGCATGCCGACGGTTGG\n",
      "CAACAAAACGCAACACCACCCAAGAAACACTCACACCGCCAGAGCCCACATGCCTACCAC\n",
      "\n",
      "\n",
      "TCGTCGAATCGCCCGTTTGTGTTGTTCGTTTATTTTGGCTATTTCGTACCCTAAACCGCC\n"
     ]
    }
   ],
   "source": [
    "!head frankengenome.fa"
   ]
  },
  {
   "cell_type": "markdown",
   "metadata": {},
   "source": [
    "Now we get the training data, which are the labels for the first 50,000 bases of the frankengenome"
   ]
  },
  {
   "cell_type": "code",
   "execution_count": 105,
   "metadata": {},
   "outputs": [
    {
     "name": "stdout",
     "output_type": "stream",
     "text": [
      "--2021-06-06 12:52:51--  http://www.cs.ucr.edu/~stelo/cs144spring21/data/frankengenome_train.txt\n",
      "Resolving www.cs.ucr.edu (www.cs.ucr.edu)... 169.235.30.15\n",
      "Connecting to www.cs.ucr.edu (www.cs.ucr.edu)|169.235.30.15|:80... connected.\n",
      "HTTP request sent, awaiting response... 200 OK\n",
      "Length: 50001 (49K) [text/plain]\n",
      "Saving to: ‘frankengenome_train.txt.1’\n",
      "\n",
      "frankengenome_train 100%[===================>]  48.83K  --.-KB/s    in 0s      \n",
      "\n",
      "2021-06-06 12:52:52 (141 MB/s) - ‘frankengenome_train.txt.1’ saved [50001/50001]\n",
      "\n"
     ]
    }
   ],
   "source": [
    "!wget http://www.cs.ucr.edu/~stelo/cs144spring21/data/frankengenome_train.txt"
   ]
  },
  {
   "cell_type": "markdown",
   "metadata": {},
   "source": [
    "Finally we get the test data, which are the labels for the next 50,000 bases of the frankengenome"
   ]
  },
  {
   "cell_type": "code",
   "execution_count": 106,
   "metadata": {},
   "outputs": [
    {
     "name": "stdout",
     "output_type": "stream",
     "text": [
      "--2021-06-06 12:52:52--  http://www.cs.ucr.edu/~stelo/cs144spring21/data/frankengenome_test.txt\n",
      "Resolving www.cs.ucr.edu (www.cs.ucr.edu)... 169.235.30.15\n",
      "Connecting to www.cs.ucr.edu (www.cs.ucr.edu)|169.235.30.15|:80... connected.\n",
      "HTTP request sent, awaiting response... 200 OK\n",
      "Length: 50001 (49K) [text/plain]\n",
      "Saving to: ‘frankengenome_test.txt.1’\n",
      "\n",
      "frankengenome_test. 100%[===================>]  48.83K  --.-KB/s    in 0s      \n",
      "\n",
      "2021-06-06 12:52:52 (134 MB/s) - ‘frankengenome_test.txt.1’ saved [50001/50001]\n",
      "\n"
     ]
    }
   ],
   "source": [
    "!wget http://www.cs.ucr.edu/~stelo/cs144spring21/data/frankengenome_test.txt"
   ]
  },
  {
   "cell_type": "markdown",
   "metadata": {},
   "source": [
    "Provide the code below, and your accuracy results on the test set. Collect some experimental data on the time required by your algorithm for longer and longer prefixes of the frankengenome to understand what is the experimental time complexity of your implementation."
   ]
  },
  {
   "cell_type": "code",
   "execution_count": 110,
   "metadata": {},
   "outputs": [],
   "source": [
    "## HMM scratch implementation code provided by https://nbviewer.jupyter.org/github/BenLangmead/comp-genomics-class/blob/master/notebooks/CG_HMM.ipynb##\n\n",
    "import math\n",
    "import numpy\n",
    "\n",
    "class HMM(object):\n",
    "    ''' Simple Hidden Markov Model implementation.  User provides\n",
    "        transition, emission and initial probabilities in dictionaries\n",
    "        mapping 2-character codes onto floating-point probabilities\n",
    "        for those table entries.  States and emissions are represented\n",
    "        with single characters.  Emission symbols comes from a finite.  '''\n",
    "    \n",
    "    def __init__(self, A, E, I):\n",
    "        ''' Initialize the HMM given transition, emission and initial\n",
    "            probability tables. '''\n",
    "        \n",
    "        # put state labels to the set self.Q\n",
    "        self.Q, self.S = set(), set() # states and symbols\n",
    "        for a, prob in A.items():\n",
    "            asrc, adst = a[0], a[1]\n",
    "            self.Q.add(asrc)\n",
    "            self.Q.add(adst)\n",
    "        # add all the symbols to the set self.S\n",
    "        for e, prob in E.items():\n",
    "            eq, es = e[0], e[1]\n",
    "            self.Q.add(eq)\n",
    "            self.S.add(es)\n",
    "        \n",
    "        self.Q = sorted(list(self.Q))\n",
    "        self.S = sorted(list(self.S))\n",
    "        \n",
    "        # create maps from state labels / emission symbols to integers\n",
    "        # that function as unique IDs\n",
    "        qmap, smap = {}, {}\n",
    "        for i in range(len(self.Q)): qmap[self.Q[i]] = i\n",
    "        for i in range(len(self.S)): smap[self.S[i]] = i\n",
    "        lenq = len(self.Q)\n",
    "        \n",
    "        # create and populate transition probability matrix\n",
    "        self.A = numpy.zeros(shape=(lenq, lenq), dtype=float)\n",
    "        for a, prob in A.items():\n",
    "            asrc, adst = a[0], a[1]\n",
    "            self.A[qmap[asrc], qmap[adst]] = prob\n",
    "        # make A stochastic (i.e. make rows add to 1)\n",
    "        self.A /= self.A.sum(axis=1)[:, numpy.newaxis]\n",
    "        \n",
    "        # create and populate emission probability matrix\n",
    "        self.E = numpy.zeros(shape=(lenq, len(self.S)), dtype=float)\n",
    "        for e, prob in E.items():\n",
    "            eq, es = e[0], e[1]\n",
    "            self.E[qmap[eq], smap[es]] = prob\n",
    "        # make E stochastic (i.e. make rows add to 1)\n",
    "        self.E /= self.E.sum(axis=1)[:, numpy.newaxis]\n",
    "        \n",
    "        # initial probabilities\n",
    "        self.I = [ 0.0 ] * len(self.Q)\n",
    "        for a, prob in I.items():\n",
    "            self.I[qmap[a]] = prob\n",
    "        # make I stochastic (i.e. adds to 1)\n",
    "        self.I = numpy.divide(self.I, sum(self.I))\n",
    "        \n",
    "        self.qmap, self.smap = qmap, smap\n",
    "        \n",
    "        # Make log-base-2 versions for log-space functions\n",
    "        self.Alog = numpy.log2(self.A)\n",
    "        self.Elog = numpy.log2(self.E)\n",
    "        self.Ilog = numpy.log2(self.I)\n",
    "    \n\n",
    "    def jointProb(self, p, x):\n",
    "        ''' Return joint probability of path p and emission string x '''\n",
    "        p = list(map(self.qmap.get, p)) # turn state characters into ids\n",
    "        x = list(map(self.smap.get, x)) # turn emission characters into ids\n",
    "        tot = self.I[p[0]] # start with initial probability\n",
    "        for i in range(1, len(p)):\n",
    "            tot *= self.A[p[i-1], p[i]] # transition probability\n",
    "        for i in range(0, len(p)):\n",
    "            tot *= self.E[p[i], x[i]] # emission probability\n",
    "        return tot\n",
    "    \n",
    "    def jointProbL(self, p, x):\n",
    "        ''' Return log2 of joint probability of path p and emission\n",
    "            string x.  Just like self.jointProb(...) but log2 domain. '''\n",
    "        p = list(map(self.qmap.get, p)) # turn state characters into ids\n",
    "        x = list(map(self.smap.get, x)) # turn emission characters into ids\n",
    "        tot = self.Ilog[p[0]] # start with initial probability\n",
    "        for i in range(1, len(p)):\n",
    "            tot += self.Alog[p[i-1], p[i]] # transition probability\n",
    "        for i in range(0, len(p)):\n",
    "            tot += self.Elog[p[i], x[i]] # emission probability\n",
    "        return tot\n",
    "    \n",
    "    def viterbi(self, x):\n",
    "        ''' Given sequence of emissions, return the most probable path\n",
    "            along with its probability. '''\n",
    "        x = list(map(self.smap.get, x)) # turn emission characters into ids\n",
    "        nrow, ncol = len(self.Q), len(x)\n",
    "        mat   = numpy.zeros(shape=(nrow, ncol), dtype=float) # prob\n",
    "        matTb = numpy.zeros(shape=(nrow, ncol), dtype=int)   # backtrace\n",
    "        # Fill in first column\n",
    "        for i in range(0, nrow):\n",
    "            mat[i, 0] = self.E[i, x[0]] * self.I[i]\n",
    "        # Fill in rest of prob and Tb tables\n",
    "        for j in range(1, ncol):\n",
    "            for i in range(0, nrow):\n",
    "                ep = self.E[i, x[j]]\n",
    "                mx, mxi = mat[0, j-1] * self.A[0, i] * ep, 0\n",
    "                for i2 in range(1, nrow):\n",
    "                    pr = mat[i2, j-1] * self.A[i2, i] * ep\n",
    "                    if pr > mx:\n",
    "                        mx, mxi = pr, i2\n",
    "                mat[i, j], matTb[i, j] = mx, mxi\n",
    "        # Find final state with maximal probability\n",
    "        omx, omxi = mat[0, ncol-1], 0\n",
    "        for i in range(1, nrow):\n",
    "            if mat[i, ncol-1] > omx:\n",
    "                omx, omxi = mat[i, ncol-1], i\n",
    "        # Backtrace\n",
    "        i, p = omxi, [omxi]\n",
    "        for j in range(ncol-1, 0, -1):\n",
    "            i = matTb[i, j]\n",
    "            p.append(i)\n",
    "        p = ''.join(map(lambda x: self.Q[x], p[::-1]))\n",
    "        return omx, p # Return probability and path\n",
    "    \n",
    "    def viterbiL(self, x):\n",
    "        ''' Given sequence of emissions, return the most probable path\n",
    "            along with log2 of its probability.  Just like viterbi(...)\n",
    "            but in log2 domain. '''\n",
    "        x = list(map(self.smap.get, x)) # turn emission characters into ids\n",
    "        nrow, ncol = len(self.Q), len(x)\n",
    "        mat   = numpy.zeros(shape=(nrow, ncol), dtype=float) # prob\n",
    "        matTb = numpy.zeros(shape=(nrow, ncol), dtype=int)   # backtrace\n",
    "        # Fill in first column\n",
    "        for i in range(0, nrow):\n",
    "            mat[i, 0] = self.Elog[i, x[0]] + self.Ilog[i]\n",
    "        # Fill in rest of log prob and Tb tables\n",
    "        for j in range(1, ncol):\n",
    "            for i in range(0, nrow):\n",
    "                ep = self.Elog[i, x[j]]\n",
    "                mx, mxi = mat[0, j-1] + self.Alog[0, i] + ep, 0\n",
    "                for i2 in range(1, nrow):\n",
    "                    pr = mat[i2, j-1] + self.Alog[i2, i] + ep\n",
    "                    if pr > mx:\n",
    "                        mx, mxi = pr, i2\n",
    "                mat[i, j], matTb[i, j] = mx, mxi\n",
    "        # Find final state with maximal log probability\n",
    "        omx, omxi = mat[0, ncol-1], 0\n",
    "        for i in range(1, nrow):\n",
    "            if mat[i, ncol-1] > omx:\n",
    "                omx, omxi = mat[i, ncol-1], i\n",
    "        # Backtrace\n",
    "        i, p = omxi, [omxi]\n",
    "        for j in range(ncol-1, 0, -1):\n",
    "            i = matTb[i, j]\n",
    "            p.append(i)\n",
    "        p = ''.join(map(lambda x: self.Q[x], p[::-1]))\n",
    "        return omx, p # Return log probability and path\n",
    "    \n",
    "###########################Code provided by https://nbviewer.jupyter.org/github/BenLangmead/comp-genomics-class/blob/master/notebooks/CG_HMM.ipynb ###############################################"
   ]
  },
  {
   "cell_type": "code",
   "execution_count": 280,
   "metadata": {},
   "outputs": [
    {
     "name": "stdout",
     "output_type": "stream",
     "text": [
      "97.49285714285712\n"
     ]
    }
   ],
   "source": [
    "import pandas as pd\n",
    "def myFunc(value):\n",
    "    fFile=open(\"frankengenome.fa\",'r')\n",
    "    fFirstLine=fFile.readline()\n",
    "    fF = fFile.read()\n",
    "    fFile.close()\n",
    "    fList=list(fF)\n",
    "    fList = [x for x in fList if x != '\\n']\n",
    "    fList = fList[:50000]\n",
    "    tFile=open(\"frankengenome_train.txt\",'r')\n",
    "    tF = tFile.read()\n",
    "    tFile.close()\n",
    "    tList=list(tF)\n",
    "    tList=tList[:value]\n",
    "    tList = [x for x in tList if x != '\\n']\n",
    "    eList=[j for i in zip(tList,fList) for j in i]\n",
    "    ######################## https://stackoverflow.com/questions/47297585/building-a-transition-matrix-using-words-in-python-numpy\n",
    "    transMatrix=pd.crosstab(pd.Series(tList[1:],name='Next'), ##Forward probability that next number is 1 given that previous number is 0 can be found at column \"0\", row \"1\" \n",
    "                    pd.Series(tList[:-1],name='Previous'),normalize=1)\n",
    "    emisMatrix=pd.crosstab(pd.Series(eList[1:],name='Next'), ##Forward probability that next letter is A given that previous number is 0 can be found at column \"0\", row \"1\" \n",
    "                    pd.Series(eList[:-1],name='Previous'),normalize=1)\n",
    "    #print(transMatrix)\n",
    "    #print(emisMatrix)\n",
    "    ######################## https://stackoverflow.com/questions/47297585/building-a-transition-matrix-using-words-in-python-numpy\n",
    "    l = transMatrix.values  # 1,0 are the states\n",
    "                                      # A,T,G,C are the emissions\n",
    "    n = emisMatrix.values\n",
    "\n",
    "    tDict={\"00\":l[0][0], \"01\":l[0][1], \"10\":l[1][0], \"11\":l[1][1]}\n",
    "    eDict={\"0A\":n[0][2],\"0C\":n[0][3],\"0T\":n[0][5],\"0G\":n[0][4],\n",
    "           \"1A\":n[1][2],\"1C\":n[1][3],\"1T\":n[1][5],\"1G\":n[1][4]}  #Potential errors here\n",
    "    iDict={'0':0.5, '1':0.5}\n",
    "    #print(tDict)\n",
    "    #print(eDict)\n",
    "    hmm=HMM(tDict, #Transition Matrix A\n",
    "            eDict, # Emission Matrix B\n",
    "            iDict) # Initial Probalities I\n",
    "\n",
    "    testFile=open(\"frankengenome.fa\",'r')\n",
    "    testFirstLine=testFile.readline()\n",
    "    testF = testFile.read()\n",
    "    testFile.close()\n",
    "    testList=list(testF)\n",
    "    testList = [x for x in testList if x != '\\n']\n",
    "    testList = testList[50000:100000]\n",
    "    new=str()\n",
    "    for x in testList:\n",
    "        new += x \n",
    "    logP, path= hmm.viterbiL(new)\n",
    "\n",
    "    newFile=open(\"frankengenome_test.txt\",'r')\n",
    "    newF = newFile.read()\n",
    "    newFile.close()\n",
    "    newList=list(newF)\n",
    "    newList = [x for x in newList if x != '\\n']\n",
    "    new1=str()\n",
    "    for x in newList:\n",
    "        new1 += x \n",
    "\n",
    "    result=0\n",
    "    #print(len(new1),len(path))\n",
    "    for i in range(len(new1)):\n",
    "        if path[i]==new1[i]:\n",
    "            result+=1\n",
    "    return(result/len(new1)*100)\n",
    "i=1461\n",
    "accuracyList=list()\n",
    "testList=list()\n",
    "while i<50000:\n",
    "    accuracyList.append(myFunc(i))\n",
    "    testList.append(i)\n",
    "    i+=1000\n",
    "print(sum(accuracyList)/len(accuracyList))"
   ]
  },
  {
   "cell_type": "code",
   "execution_count": 284,
   "metadata": {},
   "outputs": [
    {
     "data": {
      "image/png": "[encoded data removed]",
      "text/plain": [
       "<Figure size 432x288 with 1 Axes>"
      ]
     },
     "metadata": {},
     "output_type": "display_data"
    }
   ],
   "source": [
    "%matplotlib inline\n",
    "import matplotlib.pyplot as plt\n",
    "plt.style.use('seaborn-whitegrid')\n",
    "import numpy as np\n",
    "\n",
    "\n",
    "\n",
    "fig = plt.figure()\n",
    "ax = plt.axes()\n",
    "\n",
    "plt.plot(testList,myValues)\n",
    "plt.title(\"Accuracy vs Sample Size\")\n",
    "plt.xlabel(\"Sample Size\")\n",
    "plt.ylabel(\"Accuracy (%)\");"
   ]
  },
  {
   "cell_type": "code",
   "execution_count": null,
   "metadata": {},
   "outputs": [],
   "source": []
  }
 ],
 "metadata": {
  "kernelspec": {
   "display_name": "UCR CS 144 Spring 2021",
   "language": "python",
   "name": "cs144_spring2021"
  },
  "language_info": {
   "codemirror_mode": {
    "name": "ipython",
    "version": 3
   },
   "file_extension": ".py",
   "mimetype": "text/x-python",
   "name": "python",
   "nbconvert_exporter": "python",
   "pygments_lexer": "ipython3",
   "version": "3.8.5"
  }
 },
 "nbformat": 4,
 "nbformat_minor": 4
}
